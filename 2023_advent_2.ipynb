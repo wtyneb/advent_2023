{
 "cells": [
  {
   "cell_type": "code",
   "execution_count": 1,
   "id": "a3455a7e-588c-4817-be64-e45da41616bd",
   "metadata": {},
   "outputs": [],
   "source": [
    "with open(\"day2_input.txt\",\"r\") as f:\n",
    "    s = \"\".join(f.readlines())\n",
    "    \n",
    "# print(s)"
   ]
  },
  {
   "cell_type": "code",
   "execution_count": 2,
   "id": "ab3e27b5-55df-445d-bce0-1db9fe56f4d3",
   "metadata": {},
   "outputs": [],
   "source": [
    "def parse_round(r):\n",
    "    vals = [ [y.strip() for y in x.strip().split(\" \")] for x in [ p for p in r.split(\",\")]]\n",
    "    return [ [int(x),y] for x,y in vals]\n",
    "\n",
    "\n",
    "def parse_game(l):\n",
    "    game, round = l.split(\":\")\n",
    "    id = int(game.split(\" \")[1])\n",
    "    rounds = round.split(\";\")\n",
    "    return (id, [parse_round(r) for r in rounds])\n",
    "    \n",
    "\n",
    "def is_possible(l, bag):\n",
    "    id, rounds = parse_game(l)\n",
    "    for r in rounds:\n",
    "        for ct, color in r:\n",
    "            if ct > bag[color]:\n",
    "                return (id,False)\n",
    "\n",
    "    return (id,True)\n",
    "\n",
    "def min_power(l):\n",
    "    bag = {\n",
    "        \"red\": 0,\n",
    "        \"green\": 0,\n",
    "        \"blue\": 0,\n",
    "    }\n",
    "    id, rounds = parse_game(l)\n",
    "    for r in rounds:\n",
    "        for ct, color in r:\n",
    "            bag[color] = max(bag[color],ct)\n",
    "\n",
    "    return bag"
   ]
  },
  {
   "cell_type": "code",
   "execution_count": null,
   "id": "86218119-fd62-4a9e-a875-c89eb4bf0621",
   "metadata": {},
   "outputs": [],
   "source": []
  },
  {
   "cell_type": "code",
   "execution_count": 3,
   "id": "f32734de-78ba-41a2-8dea-a72951f245c2",
   "metadata": {},
   "outputs": [
    {
     "name": "stdout",
     "output_type": "stream",
     "text": [
      "Game 100\n",
      " 16 blue, 12 red, 3 green; 2 green, 7 blue; 5 blue, 4 green; 10 blue, 6 red, 6 green; 5 red, 12 blue, 2 green; 9 red, 12 blue, 11 green\n",
      "[' 16 blue, 12 red, 3 green', ' 2 green, 7 blue', ' 5 blue, 4 green', ' 10 blue, 6 red, 6 green', ' 5 red, 12 blue, 2 green', ' 9 red, 12 blue, 11 green']\n",
      " 16 blue, 12 red, 3 green\n"
     ]
    },
    {
     "data": {
      "text/plain": [
       "[['16', 'blue'], ['12', 'red'], ['3', 'green']]"
      ]
     },
     "execution_count": 3,
     "metadata": {},
     "output_type": "execute_result"
    }
   ],
   "source": [
    "#testing\n",
    "\n",
    "l = \"Game 100: 16 blue, 12 red, 3 green; 2 green, 7 blue; 5 blue, 4 green; 10 blue, 6 red, 6 green; 5 red, 12 blue, 2 green; 9 red, 12 blue, 11 green\"\n",
    "game,vals = l.split(\":\")\n",
    "print(game)\n",
    "print(vals)\n",
    "\n",
    "rounds = vals.split(\";\")\n",
    "print(rounds)\n",
    "r = rounds[0]\n",
    "print(r)\n",
    "[ [y.strip() for y in x.strip().split(\" \")] for x in [ p for p in r.split(\",\")]]"
   ]
  },
  {
   "cell_type": "code",
   "execution_count": 4,
   "id": "9dba4dc1-8655-4de5-8357-b1a1bfc9ea93",
   "metadata": {},
   "outputs": [
    {
     "data": {
      "text/plain": [
       "[[16, 'blue'], [12, 'red'], [3, 'green']]"
      ]
     },
     "execution_count": 4,
     "metadata": {},
     "output_type": "execute_result"
    }
   ],
   "source": [
    "#testing\n",
    "\n",
    "parse_round(r)"
   ]
  },
  {
   "cell_type": "code",
   "execution_count": 5,
   "id": "54800edf-7bb7-4d6f-b42b-6d8ae0ecf855",
   "metadata": {},
   "outputs": [
    {
     "data": {
      "text/plain": [
       "(100,\n",
       " [[[16, 'blue'], [12, 'red'], [3, 'green']],\n",
       "  [[2, 'green'], [7, 'blue']],\n",
       "  [[5, 'blue'], [4, 'green']],\n",
       "  [[10, 'blue'], [6, 'red'], [6, 'green']],\n",
       "  [[5, 'red'], [12, 'blue'], [2, 'green']],\n",
       "  [[9, 'red'], [12, 'blue'], [11, 'green']]])"
      ]
     },
     "execution_count": 5,
     "metadata": {},
     "output_type": "execute_result"
    }
   ],
   "source": [
    "#testing\n",
    "\n",
    "parse_game(l)"
   ]
  },
  {
   "cell_type": "code",
   "execution_count": null,
   "id": "75291e7c-05f2-44be-829e-e55475c33d27",
   "metadata": {},
   "outputs": [],
   "source": []
  },
  {
   "cell_type": "code",
   "execution_count": 6,
   "id": "18c6f584-9c01-4199-9e76-72b99c1cfec2",
   "metadata": {},
   "outputs": [
    {
     "name": "stdout",
     "output_type": "stream",
     "text": [
      "1931\n"
     ]
    }
   ],
   "source": [
    "# part 1\n",
    "\n",
    "bag = {\n",
    "    \"red\": 12,\n",
    "    \"green\": 13,\n",
    "    \"blue\": 14,\n",
    "}\n",
    "total = 0\n",
    "for l in s.split(\"\\n\"):\n",
    "    (id,v) = is_possible(l,bag)\n",
    "    if v:\n",
    "        total += id\n",
    "\n",
    "print(total)"
   ]
  },
  {
   "cell_type": "code",
   "execution_count": 7,
   "id": "5f30282c-68da-442f-aef8-2b2a2f49b18a",
   "metadata": {},
   "outputs": [
    {
     "name": "stdout",
     "output_type": "stream",
     "text": [
      "83105\n"
     ]
    }
   ],
   "source": [
    "# sample input for testing\n",
    "s2 = \"\"\"Game 1: 3 blue, 4 red; 1 red, 2 green, 6 blue; 2 green\n",
    "Game 2: 1 blue, 2 green; 3 green, 4 blue, 1 red; 1 green, 1 blue\n",
    "Game 3: 8 green, 6 blue, 20 red; 5 blue, 4 red, 13 green; 5 green, 1 red\n",
    "Game 4: 1 green, 3 red, 6 blue; 3 green, 6 red; 3 green, 15 blue, 14 red\n",
    "Game 5: 6 red, 1 blue, 3 green; 2 blue, 1 red, 2 green\"\"\"\n",
    "\n",
    "\n",
    "# part2 answer\n",
    "\n",
    "ps = []\n",
    "for l in s.split(\"\\n\"):\n",
    "    b = min_power(l)\n",
    "    # print(b)\n",
    "    p = 1\n",
    "    for k in b:\n",
    "        p = p * b[k]\n",
    "\n",
    "    # print(p)\n",
    "    ps.append(p)\n",
    "\n",
    "print(sum(ps))"
   ]
  },
  {
   "cell_type": "code",
   "execution_count": null,
   "id": "bccd445b-a0f4-42f8-8bac-218947251c18",
   "metadata": {},
   "outputs": [],
   "source": []
  },
  {
   "cell_type": "code",
   "execution_count": 1,
   "id": "ce6cac3e-9c89-4584-ae5f-1aa6c46504fe",
   "metadata": {},
   "outputs": [],
   "source": []
  }
 ],
 "metadata": {
  "kernelspec": {
   "display_name": "Python 3 (ipykernel)",
   "language": "python",
   "name": "python3"
  },
  "language_info": {
   "codemirror_mode": {
    "name": "ipython",
    "version": 3
   },
   "file_extension": ".py",
   "mimetype": "text/x-python",
   "name": "python",
   "nbconvert_exporter": "python",
   "pygments_lexer": "ipython3",
   "version": "3.11.0"
  }
 },
 "nbformat": 4,
 "nbformat_minor": 5
}
