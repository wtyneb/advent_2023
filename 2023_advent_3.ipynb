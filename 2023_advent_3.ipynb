{
 "cells": [
  {
   "cell_type": "code",
   "execution_count": 1,
   "id": "983d8ee1-e223-4970-b5ad-786f14e2bdc8",
   "metadata": {},
   "outputs": [],
   "source": [
    "ex = \"\"\"\n",
    "467..114..\n",
    "...*......\n",
    "..35..633.\n",
    "......#...\n",
    "617*......\n",
    ".....+.58.\n",
    "..592.....\n",
    "......755.\n",
    "...$.*....\n",
    ".664.598..\n",
    "\"\"\""
   ]
  },
  {
   "cell_type": "code",
   "execution_count": 2,
   "id": "beb1c464-51ad-48e4-8779-43fbccc007e4",
   "metadata": {},
   "outputs": [],
   "source": [
    "with open(\"day3_input.txt\",\"r\") as f:\n",
    "    lines = f.readlines()\n",
    "    s = \"\".join(lines)\n",
    "#print(s)"
   ]
  },
  {
   "cell_type": "code",
   "execution_count": 3,
   "id": "d4fbffa2-9c18-45fe-9eb7-d7ef456b2ace",
   "metadata": {},
   "outputs": [],
   "source": [
    "def to_array(s):\n",
    "    return [[c for c in x] for x in s.split(\"\\n\") if x != \"\"]"
   ]
  },
  {
   "cell_type": "code",
   "execution_count": 4,
   "id": "65f39dca-2c9b-4177-9bcb-cedd919b0191",
   "metadata": {},
   "outputs": [],
   "source": [
    "#testing \n",
    "A = to_array(ex)"
   ]
  },
  {
   "cell_type": "code",
   "execution_count": 5,
   "id": "1dc99f21-079e-4051-8be9-1845c4c895f6",
   "metadata": {},
   "outputs": [],
   "source": [
    "def find_parts(A):\n",
    "    parts = []\n",
    "    for i in range(len(A)):\n",
    "        for j in range(len(A[i])):\n",
    "            if A[i][j] not in \".1234567890\":\n",
    "                parts.append((i,j,A[i][j]))\n",
    "\n",
    "    return parts\n",
    "    "
   ]
  },
  {
   "cell_type": "code",
   "execution_count": 6,
   "id": "2053f9eb-0045-4634-b6d0-607c68f512e7",
   "metadata": {},
   "outputs": [
    {
     "data": {
      "text/plain": [
       "[(1, 3, '*'), (3, 6, '#'), (4, 3, '*'), (5, 5, '+'), (8, 3, '$'), (8, 5, '*')]"
      ]
     },
     "execution_count": 6,
     "metadata": {},
     "output_type": "execute_result"
    }
   ],
   "source": [
    "#testing on example input\n",
    "SA = to_array(ex)\n",
    "parts = find_parts(SA)\n",
    "parts"
   ]
  },
  {
   "cell_type": "code",
   "execution_count": 7,
   "id": "626b8775-7453-4cd4-bdce-322948421147",
   "metadata": {},
   "outputs": [],
   "source": [
    "# list of adjaceny transforms\n",
    "adj = [\n",
    "    # h  w\n",
    "    (-1, -1),\n",
    "    (-1, 0),\n",
    "    (-1, 1),\n",
    "    (0, -1),\n",
    "    (0, 1),\n",
    "    (1, -1),\n",
    "    (1, 0),\n",
    "    (1, 1),\n",
    "]\n",
    "\n"
   ]
  },
  {
   "cell_type": "code",
   "execution_count": 8,
   "id": "83397d5c-60a8-4592-92a3-52c8f78fabce",
   "metadata": {},
   "outputs": [
    {
     "name": "stdout",
     "output_type": "stream",
     "text": [
      "[['1', '2', '3'], ['4', '5', '6'], ['7', '8', '9']]\n",
      "1\n",
      "2\n",
      "3\n",
      "4\n",
      "6\n",
      "7\n",
      "8\n",
      "9\n"
     ]
    }
   ],
   "source": [
    "#testing for adjaceny\n",
    "A = [ [c for c in x] for x in \"\"\"\n",
    "123\n",
    "456\n",
    "789\n",
    "\"\"\".split(\"\\n\") if x != \"\"]\n",
    "print(A)\n",
    "\n",
    "for (x,y) in adj:\n",
    "    print(A[1+x][1+y])"
   ]
  },
  {
   "cell_type": "code",
   "execution_count": 9,
   "id": "f5881646-1489-4c53-813e-eabcf7330a39",
   "metadata": {},
   "outputs": [],
   "source": [
    "def adjacent_cells(A,i,j):\n",
    "    h = len(A)\n",
    "    w = len(A[0])\n",
    "\n",
    "    cells = [ (i+y,j+x) for (y,x) in adj]\n",
    "\n",
    "    return [ (y,x) for (y,x) in cells if x >= 0 and x < h and y >= 0 and y < w]\n",
    "    "
   ]
  },
  {
   "cell_type": "code",
   "execution_count": 10,
   "id": "2ad3d5b9-0c3d-4ebc-a044-304d692c5ac9",
   "metadata": {},
   "outputs": [
    {
     "name": "stdout",
     "output_type": "stream",
     "text": [
      "4\n",
      "\t 1\n",
      "\t 2\n",
      "\t 5\n",
      "\t 7\n",
      "\t 8\n"
     ]
    }
   ],
   "source": [
    "# more adjaceny testing\n",
    "i,j = 1,0\n",
    "print(A[i][j])\n",
    "for y,x in adjacent_cells(A,i,j):\n",
    "    print(f\"\\t {A[y][x]}\")\n"
   ]
  },
  {
   "cell_type": "code",
   "execution_count": 11,
   "id": "dcb68331-9d2d-4d7c-81be-5aea1245a250",
   "metadata": {},
   "outputs": [],
   "source": [
    "def capture_right(A,i,j,captured):\n",
    "    x = j+1\n",
    "    y = i\n",
    "    s = \"\"\n",
    "    while x < len(A[y]) and A[y][x] in \"1234567890\" and (y,x) not in captured:\n",
    "        s = s + A[y][x]\n",
    "        captured.add((y,x))\n",
    "        x+=1\n",
    "    return s\n",
    "    \n",
    "def capture_left(A,i,j,captured):\n",
    "    x = j-1\n",
    "    y = i\n",
    "    s = \"\"\n",
    "    while x >= 0 and A[y][x] in \"1234567890\" and (y,x) not in captured:\n",
    "        s = A[y][x] + s\n",
    "        captured.add((y,x))\n",
    "        x-=1\n",
    "\n",
    "    return s\n",
    "        \n",
    "def check_adjacent(A,i,j):\n",
    "    cells = adjacent_cells(A,i,j)\n",
    "    captured = set()\n",
    "    nums = []\n",
    "    # print(A[i][j])\n",
    "    for (y,x) in cells:\n",
    "        # print(f\"checking {(y,x)}={A[y][x]}\")\n",
    "        if A[y][x] in \"0123456789\" and (y,x) not in captured:\n",
    "            captured.add((y,x))\n",
    "            # print(captured)\n",
    "            l = capture_left(A,y,x,captured)\n",
    "            r = capture_right(A,y,x,captured)\n",
    "            num = l + A[y][x] + r\n",
    "            nums.append(l + A[y][x] + r)\n",
    "\n",
    "    return nums\n"
   ]
  },
  {
   "cell_type": "code",
   "execution_count": 12,
   "id": "fd0e139d-2f4b-4e89-b149-443d9ca26596",
   "metadata": {},
   "outputs": [
    {
     "data": {
      "text/plain": [
       "4361"
      ]
     },
     "execution_count": 12,
     "metadata": {},
     "output_type": "execute_result"
    }
   ],
   "source": [
    "# testing on sample input\n",
    "\n",
    "parts = find_parts(SA)\n",
    "\n",
    "part_nums = []\n",
    "for (i,j,p) in parts:\n",
    "    # print((i,j,p))\n",
    "    pns = check_adjacent(SA, i, j)\n",
    "    # print(pns)\n",
    "    part_nums.extend(pns)\n",
    "sum([int(x) for x in part_nums])"
   ]
  },
  {
   "cell_type": "code",
   "execution_count": 13,
   "id": "5c5d9bf3-f86c-4757-ae48-b6b392bddfe0",
   "metadata": {},
   "outputs": [],
   "source": [
    "IA = to_array(s)\n",
    "parts = find_parts(IA)\n",
    "part_nums = []\n",
    "for (i,j,p) in parts:\n",
    "    # print((i,j,p))\n",
    "    pns = check_adjacent(IA, i, j)\n",
    "    # print(pns)\n",
    "    part_nums.extend(pns)\n",
    "    "
   ]
  },
  {
   "cell_type": "code",
   "execution_count": 14,
   "id": "514fb5a5-d5df-4efb-bdcd-a7b25f08a112",
   "metadata": {},
   "outputs": [
    {
     "data": {
      "text/plain": [
       "527369"
      ]
     },
     "execution_count": 14,
     "metadata": {},
     "output_type": "execute_result"
    }
   ],
   "source": [
    "# Part 1 Answer\n",
    "sum([int(x) for x in part_nums])"
   ]
  },
  {
   "cell_type": "code",
   "execution_count": 15,
   "id": "eee74aa1-6bf6-4204-992c-0efd496d4ac3",
   "metadata": {},
   "outputs": [
    {
     "data": {
      "text/plain": [
       "[(1, 5, '*'), (1, 24, '+'), (1, 33, '&'), (1, 37, '='), (1, 52, '*')]"
      ]
     },
     "execution_count": 15,
     "metadata": {},
     "output_type": "execute_result"
    }
   ],
   "source": [
    "parts[0:5]"
   ]
  },
  {
   "cell_type": "code",
   "execution_count": 16,
   "id": "ca011381-a708-4595-8f32-ab27451bb76a",
   "metadata": {},
   "outputs": [
    {
     "data": {
      "text/plain": [
       "73074886"
      ]
     },
     "execution_count": 16,
     "metadata": {},
     "output_type": "execute_result"
    }
   ],
   "source": [
    "parts = find_parts(IA)\n",
    "gear_parts = [ p for p in parts if p[2] == \"*\"]\n",
    "part_nums = []\n",
    "for (i,j,p) in parts:\n",
    "    # print((i,j,p))\n",
    "    pns = check_adjacent(IA, i, j)\n",
    "    # print(pns)\n",
    "    # print(pns)\n",
    "    part_nums.append(pns)\n",
    "\n",
    "actual_gears = [ [int(s) for s in x] for x in part_nums if len(x) == 2]\n",
    "actual_gears\n",
    "\n",
    "#Part 2 answer\n",
    "sum([x[0] * x[1] for x in  actual_gears])"
   ]
  },
  {
   "cell_type": "code",
   "execution_count": null,
   "id": "3fd3877a-d1e2-4155-9861-372d4ecc8312",
   "metadata": {},
   "outputs": [],
   "source": []
  }
 ],
 "metadata": {
  "kernelspec": {
   "display_name": "Python 3 (ipykernel)",
   "language": "python",
   "name": "python3"
  },
  "language_info": {
   "codemirror_mode": {
    "name": "ipython",
    "version": 3
   },
   "file_extension": ".py",
   "mimetype": "text/x-python",
   "name": "python",
   "nbconvert_exporter": "python",
   "pygments_lexer": "ipython3",
   "version": "3.11.0"
  }
 },
 "nbformat": 4,
 "nbformat_minor": 5
}
