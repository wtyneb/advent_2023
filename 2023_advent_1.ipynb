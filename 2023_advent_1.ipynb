{
 "cells": [
  {
   "cell_type": "code",
   "execution_count": 1,
   "id": "5ec824a1-7b54-4433-99f9-e3ac3dd74b88",
   "metadata": {},
   "outputs": [],
   "source": [
    "import string\n",
    "import logging"
   ]
  },
  {
   "cell_type": "code",
   "execution_count": 2,
   "id": "4eb23e6b-82ae-4fcb-9fe0-a26b21127e3b",
   "metadata": {},
   "outputs": [
    {
     "name": "stdout",
     "output_type": "stream",
     "text": [
      "55971\n",
      "54719\n"
     ]
    }
   ],
   "source": [
    "# s = \"\"\"\n",
    "# 1abc2\n",
    "# pqr3stu8vwx\n",
    "# a1b2c3d4e5f\n",
    "# treb7uchet\n",
    "# \"\"\" #example input copy-paste input string here\n",
    "\n",
    "with open(\"day1_input.txt\",\"r\") as f:\n",
    "    s = \"\".join(f.readlines())\n",
    "    \n",
    "\n",
    "#part 1\n",
    "def get_cal(l):\n",
    "    digits = [ c for c in l if c in \"0123456789\"]\n",
    "    return digits[0] + digits[-1]\n",
    "\n",
    "words = [\"one\",\"two\",\"three\",\"four\",\"five\",\"six\",\"seven\",\"eight\",\"nine\"] + [c for c in \"0123456789\"]\n",
    "\n",
    "remap = {\n",
    "    'one': '1',\n",
    "    'two': '2',\n",
    "    'three': '3',\n",
    "    'four': '4',\n",
    "    'five': '5',\n",
    "    'six': '6',\n",
    "    'seven': '7',\n",
    "    'eight': '8',\n",
    "    'nine': '9',\n",
    "    '0': '0',\n",
    "    '1': '1',\n",
    "    '2': '2',\n",
    "    '3': '3',\n",
    "    '4': '4',\n",
    "    '5': '5',\n",
    "    '6': '6',\n",
    "    '7': '7',\n",
    "    '8': '8',\n",
    "    '9': '9'\n",
    "}\n",
    "\n",
    "def first_digit(l):\n",
    "    for i in range(1,len(l)+1):\n",
    "        ss = l[0:i]\n",
    "        # print(ss)\n",
    "        for w in words:\n",
    "            if w in ss:\n",
    "                return remap[w]\n",
    "\n",
    "    # logging.warning(\"    no bueno: \" + l)\n",
    "\n",
    "        \n",
    "def last_digit(l):\n",
    "    for i in range(1,len(l)+1):\n",
    "        ss = l[len(l)-i:]\n",
    "        for w in words:\n",
    "            if w in ss:\n",
    "                return remap[w]\n",
    "\n",
    "    # logging.warning(\"    nobueno: \" + l)\n",
    "\n",
    "answer1 = sum([int(get_cal(l)) for l in s.split(\"\\n\") if l != \"\"])\n",
    "print(answer1)\n",
    "\n",
    "answer2 = sum([int(first_digit(l) + last_digit(l)) for l in s.split(\"\\n\") if l != \"\"])\n",
    "print(answer2)"
   ]
  },
  {
   "cell_type": "code",
   "execution_count": 3,
   "id": "471dfbe8-a900-4ffe-8cef-e045bee5c67e",
   "metadata": {},
   "outputs": [
    {
     "data": {
      "text/plain": [
       "{'one': 'one',\n",
       " 'two': 'two',\n",
       " 'three': 'three',\n",
       " 'four': 'four',\n",
       " 'five': 'five',\n",
       " 'six': 'six',\n",
       " 'seven': 'seven',\n",
       " 'eight': 'eight',\n",
       " 'nine': 'nine',\n",
       " '0': '0',\n",
       " '1': '1',\n",
       " '2': '2',\n",
       " '3': '3',\n",
       " '4': '4',\n",
       " '5': '5',\n",
       " '6': '6',\n",
       " '7': '7',\n",
       " '8': '8',\n",
       " '9': '9'}"
      ]
     },
     "execution_count": 3,
     "metadata": {},
     "output_type": "execute_result"
    }
   ],
   "source": [
    "{ k:k for k in words}"
   ]
  },
  {
   "cell_type": "code",
   "execution_count": null,
   "id": "d26d0530-509f-4fa7-93f6-c8d169a70ba7",
   "metadata": {},
   "outputs": [],
   "source": []
  },
  {
   "cell_type": "code",
   "execution_count": 4,
   "id": "c90350d1-6d7e-4f36-b561-d2635deb3078",
   "metadata": {},
   "outputs": [
    {
     "data": {
      "text/plain": [
       "55971"
      ]
     },
     "execution_count": 4,
     "metadata": {},
     "output_type": "execute_result"
    }
   ],
   "source": [
    "#part 1 answer\n",
    "sum([int(get_cal(l)) for l in s.split(\"\\n\") if l != \"\"])"
   ]
  },
  {
   "cell_type": "code",
   "execution_count": 5,
   "id": "c8b3a9c6-9c14-42ff-86f8-984ccec8dc7e",
   "metadata": {},
   "outputs": [
    {
     "data": {
      "text/plain": [
       "54719"
      ]
     },
     "execution_count": 5,
     "metadata": {},
     "output_type": "execute_result"
    }
   ],
   "source": [
    "#part 2 answer\n",
    "sum([int(first_digit(l) + last_digit(l)) for l in s.split(\"\\n\") if l != \"\"])"
   ]
  },
  {
   "cell_type": "code",
   "execution_count": null,
   "id": "1ce1ae64-aee9-4145-a4d5-1c4499c75009",
   "metadata": {},
   "outputs": [],
   "source": []
  }
 ],
 "metadata": {
  "kernelspec": {
   "display_name": "Python 3 (ipykernel)",
   "language": "python",
   "name": "python3"
  },
  "language_info": {
   "codemirror_mode": {
    "name": "ipython",
    "version": 3
   },
   "file_extension": ".py",
   "mimetype": "text/x-python",
   "name": "python",
   "nbconvert_exporter": "python",
   "pygments_lexer": "ipython3",
   "version": "3.11.0"
  }
 },
 "nbformat": 4,
 "nbformat_minor": 5
}
