{
 "cells": [
  {
   "cell_type": "code",
   "execution_count": 1,
   "id": "14a2770a-e0d0-413d-904d-4197f103c7b6",
   "metadata": {},
   "outputs": [],
   "source": [
    "from pprint import pprint"
   ]
  },
  {
   "cell_type": "code",
   "execution_count": 2,
   "id": "197a8119-50d5-468c-8c04-839a4e72e92e",
   "metadata": {},
   "outputs": [],
   "source": [
    "with open(\"day4_input.txt\",\"r\") as f:\n",
    "    lines = f.readlines()\n",
    "    actual_input = \"\".join(lines)\n",
    "#print(actual_input)"
   ]
  },
  {
   "cell_type": "code",
   "execution_count": 3,
   "id": "023b0dae-0b26-4cc0-97ef-744930567db4",
   "metadata": {},
   "outputs": [
    {
     "data": {
      "text/plain": [
       "[(1, {17, 41, 48, 83, 86}, {6, 9, 17, 31, 48, 53, 83, 86}),\n",
       " (2, {13, 16, 20, 32, 61}, {17, 19, 24, 30, 32, 61, 68, 82}),\n",
       " (3, {1, 21, 44, 53, 59}, {1, 14, 16, 21, 63, 69, 72, 82}),\n",
       " (4, {41, 69, 73, 84, 92}, {5, 51, 54, 58, 59, 76, 83, 84}),\n",
       " (5, {26, 28, 32, 83, 87}, {12, 22, 30, 36, 70, 82, 88, 93}),\n",
       " (6, {13, 18, 31, 56, 72}, {10, 11, 23, 35, 36, 67, 74, 77})]"
      ]
     },
     "execution_count": 3,
     "metadata": {},
     "output_type": "execute_result"
    }
   ],
   "source": [
    "sample = \"\"\"\n",
    "Card 1: 41 48 83 86 17 | 83 86  6 31 17  9 48 53\n",
    "Card 2: 13 32 20 16 61 | 61 30 68 82 17 32 24 19\n",
    "Card 3:  1 21 53 59 44 | 69 82 63 72 16 21 14  1\n",
    "Card 4: 41 92 73 84 69 | 59 84 76 51 58  5 54 83\n",
    "Card 5: 87 83 26 28 32 | 88 30 70 12 93 22 82 36\n",
    "Card 6: 31 18 13 56 72 | 74 77 10 23 35 67 36 11\n",
    "\"\"\"\n",
    "\n",
    "def parse_card(l):\n",
    "    card,nums = l.split(\":\")\n",
    "    card_id = int(card.split(\" \")[-1].strip())\n",
    "    \n",
    "    winning,have = nums.split(\"|\")\n",
    "    winning = [int(x.strip()) for x in winning.split(\" \") if x != \"\"]\n",
    "    have = [int(x.strip()) for x in have.split(\" \") if x != \"\"]\n",
    "    \n",
    "    return (card_id, set(winning), set(have))\n",
    "\n",
    "def parse_input(s):\n",
    "    return [parse_card(l.strip()) for l in s.split(\"\\n\") if l != \"\"]\n",
    "\n",
    "cards = parse_input(sample)\n",
    "cards"
   ]
  },
  {
   "cell_type": "code",
   "execution_count": 4,
   "id": "339ae5b6-329b-4391-87d2-44d64de9314b",
   "metadata": {},
   "outputs": [],
   "source": [
    "def calc_points(card_id,winning,have):\n",
    "    overlap = set.intersection(winning,have)\n",
    "    if overlap:\n",
    "        return (card_id, pow(2,max(0,len(overlap)-1)))\n",
    "    else:\n",
    "        return (card_id,0)"
   ]
  },
  {
   "cell_type": "code",
   "execution_count": 5,
   "id": "5c7bda6f-df67-4b63-bfe9-88f30a75235e",
   "metadata": {},
   "outputs": [
    {
     "data": {
      "text/plain": [
       "[8, 2, 2, 1, 0, 0]"
      ]
     },
     "execution_count": 5,
     "metadata": {},
     "output_type": "execute_result"
    }
   ],
   "source": [
    "points = [calc_points(x,y,z)[1] for (x,y,z) in cards]\n",
    "points"
   ]
  },
  {
   "cell_type": "code",
   "execution_count": 6,
   "id": "fb222f1a-0999-456f-b7b5-ff73dc060947",
   "metadata": {},
   "outputs": [
    {
     "name": "stdout",
     "output_type": "stream",
     "text": [
      "part1 answer\n",
      "15205\n"
     ]
    }
   ],
   "source": [
    "actual_cards = parse_input(actual_input)\n",
    "# part1 points\n",
    "points = [calc_points(x,y,z)[1] for (x,y,z) in actual_cards]\n",
    "print(\"part1 answer\")\n",
    "print(sum(points))"
   ]
  },
  {
   "cell_type": "code",
   "execution_count": null,
   "id": "7018d78b-2df3-4d9b-8033-0536bff623e3",
   "metadata": {},
   "outputs": [],
   "source": []
  },
  {
   "cell_type": "code",
   "execution_count": 7,
   "id": "1de8085d-b23d-4ec9-a23a-27d3f687bb91",
   "metadata": {},
   "outputs": [
    {
     "data": {
      "text/plain": [
       "[(1, {17, 41, 48, 83, 86}, {6, 9, 17, 31, 48, 53, 83, 86}),\n",
       " (2, {13, 16, 20, 32, 61}, {17, 19, 24, 30, 32, 61, 68, 82}),\n",
       " (3, {1, 21, 44, 53, 59}, {1, 14, 16, 21, 63, 69, 72, 82}),\n",
       " (4, {41, 69, 73, 84, 92}, {5, 51, 54, 58, 59, 76, 83, 84}),\n",
       " (5, {26, 28, 32, 83, 87}, {12, 22, 30, 36, 70, 82, 88, 93}),\n",
       " (6, {13, 18, 31, 56, 72}, {10, 11, 23, 35, 36, 67, 74, 77})]"
      ]
     },
     "execution_count": 7,
     "metadata": {},
     "output_type": "execute_result"
    }
   ],
   "source": [
    "sample_cards = parse_input(sample)\n",
    "sample_cards"
   ]
  },
  {
   "cell_type": "code",
   "execution_count": 8,
   "id": "ec43be0d-03a5-4830-9ccd-cd9744614523",
   "metadata": {},
   "outputs": [
    {
     "data": {
      "text/plain": [
       "4"
      ]
     },
     "execution_count": 8,
     "metadata": {},
     "output_type": "execute_result"
    }
   ],
   "source": [
    "def match_count(winning,have):\n",
    "    overlap = set.intersection(winning,have)\n",
    "    return len(overlap)\n",
    "match_count(sample_cards[0][1],sample_cards[0][2])"
   ]
  },
  {
   "cell_type": "code",
   "execution_count": 9,
   "id": "ff47dd93-819c-4cf9-ae85-586433f215e6",
   "metadata": {},
   "outputs": [],
   "source": [
    "def compute_copies(cards):\n",
    "    copies = [1 for x in cards]\n",
    "\n",
    "    for i in range(len(cards)):\n",
    "        card_id, w, h = cards[i]\n",
    "        ct = match_count(w,h)\n",
    "        # print(f\"card {i+1} copies {list(range(i+2,i+2+ct))}\")\n",
    "        for k in range(copies[i]):\n",
    "            for j in range(i+1,i+ct+1):\n",
    "                copies[j] += 1\n",
    "\n",
    "    return copies"
   ]
  },
  {
   "cell_type": "code",
   "execution_count": 10,
   "id": "412fae36-6abe-458e-a0db-30e211323e35",
   "metadata": {},
   "outputs": [
    {
     "name": "stdout",
     "output_type": "stream",
     "text": [
      "[(1, {41, 48, 17, 83, 86}, {6, 9, 48, 17, 83, 53, 86, 31}), (2, {32, 13, 16, 20, 61}, {32, 68, 17, 82, 19, 24, 61, 30}), (3, {1, 44, 53, 21, 59}, {1, 69, 72, 14, 16, 82, 21, 63}), (4, {69, 73, 41, 84, 92}, {5, 76, 51, 84, 83, 54, 58, 59}), (5, {32, 83, 87, 26, 28}, {36, 70, 12, 82, 22, 88, 93, 30}), (6, {72, 13, 18, 56, 31}, {35, 67, 36, 74, 10, 11, 77, 23})]\n",
      "[1, 2, 4, 8, 14, 1]\n",
      "30\n"
     ]
    }
   ],
   "source": [
    "sample_cards = parse_input(sample)\n",
    "sample_copies = compute_copies(sample_cards)\n",
    "print(sample_cards)\n",
    "print(sample_copies)\n",
    "print(sum(sample_copies))"
   ]
  },
  {
   "cell_type": "code",
   "execution_count": 11,
   "id": "cdccb297-d799-458d-8998-027ea80f77a6",
   "metadata": {},
   "outputs": [
    {
     "name": "stdout",
     "output_type": "stream",
     "text": [
      "part 2 answer\n",
      "6189740\n"
     ]
    }
   ],
   "source": [
    "copies = compute_copies(actual_cards)\n",
    "print(\"part 2 answer\")\n",
    "print(sum(copies))"
   ]
  },
  {
   "cell_type": "code",
   "execution_count": 12,
   "id": "2018da8b-259d-4844-9533-4db25423053a",
   "metadata": {},
   "outputs": [],
   "source": [
    "def compute_copies2(cards):\n",
    "    copies = [1 for x in cards]\n",
    "\n",
    "    for i in range(len(cards)):\n",
    "        card_id, w, h = cards[i]\n",
    "        ct = match_count(w,h)\n",
    "        # print(f\"card {i+1} copies {list(range(i+2,i+2+ct))}\")\n",
    "        k = copies[i]\n",
    "        for j in range(i+1,i+ct+1):\n",
    "            copies[j] += k\n",
    "\n",
    "    return copies"
   ]
  },
  {
   "cell_type": "code",
   "execution_count": 13,
   "id": "d71e2863-6b98-4046-a378-90f4b8eb0a92",
   "metadata": {},
   "outputs": [
    {
     "name": "stdout",
     "output_type": "stream",
     "text": [
      "part 2 answer\n",
      "6189740\n"
     ]
    }
   ],
   "source": [
    "copies = compute_copies2(actual_cards)\n",
    "print(\"part 2 answer\")\n",
    "print(sum(copies))"
   ]
  },
  {
   "cell_type": "code",
   "execution_count": null,
   "id": "fd3ad542-1d08-425d-9690-e7abac846f1c",
   "metadata": {},
   "outputs": [],
   "source": []
  }
 ],
 "metadata": {
  "kernelspec": {
   "display_name": "Python 3 (ipykernel)",
   "language": "python",
   "name": "python3"
  },
  "language_info": {
   "codemirror_mode": {
    "name": "ipython",
    "version": 3
   },
   "file_extension": ".py",
   "mimetype": "text/x-python",
   "name": "python",
   "nbconvert_exporter": "python",
   "pygments_lexer": "ipython3",
   "version": "3.11.0"
  }
 },
 "nbformat": 4,
 "nbformat_minor": 5
}
